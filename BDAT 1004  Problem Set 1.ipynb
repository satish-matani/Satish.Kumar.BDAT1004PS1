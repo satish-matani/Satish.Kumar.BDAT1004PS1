{
 "cells": [
  {
   "cell_type": "markdown",
   "id": "124544e7",
   "metadata": {},
   "source": [
    "# Question 1\n",
    "\n",
    "What data type is each of the following (evaluate where necessary)?\n",
    "\n",
    "5</br>\n",
    "5.0</br>\n",
    "5 > 1</br>\n",
    "'5'</br>\n",
    "5 * 2</br>\n",
    "'5' * 2</br>\n",
    "'5' + '2'</br>\n",
    "5 / 2</br>\n",
    "5 % 2</br>\n",
    "{5, 2, 1}</br>\n",
    "5 == 3</br>\n",
    "Pi (the number)</br>"
   ]
  },
  {
   "cell_type": "code",
   "execution_count": 31,
   "id": "792db193",
   "metadata": {},
   "outputs": [
    {
     "name": "stdout",
     "output_type": "stream",
     "text": [
      "Type of 5 is  <class 'int'>\n",
      "Type of 5.0 is  <class 'float'>\n",
      "Type of 5 > 1 is  <class 'bool'>\n",
      "Type of '5' is  <class 'str'>\n",
      "Type of 5 * 2 is  <class 'int'>\n",
      "Type of '5' * 2 is  <class 'str'>\n",
      "Type of '5' + '2' is  <class 'str'>\n",
      "Type of 5 / 2 is  <class 'float'>\n",
      "Type of 5 % 2 is  <class 'int'>\n",
      "Type of {5, 2, 1} is  <class 'set'>\n",
      "Type of 5 == 3 is  <class 'bool'>\n",
      "Type of 3.14 is  <class 'float'>\n"
     ]
    }
   ],
   "source": [
    "print(\"Type of 5 is \", type(5))\n",
    "print(\"Type of 5.0 is \", type(5.0))\n",
    "print(\"Type of 5 > 1 is \", type(5 > 1))\n",
    "print(\"Type of \\'5\\' is \", type('5'))\n",
    "print(\"Type of 5 * 2 is \", type(5 * 2))\n",
    "print(\"Type of \\'5\\' * 2 is \", type('5' * 2))\n",
    "print(\"Type of \\'5\\' + \\'2\\' is \", type('5' + '2'))\n",
    "print(\"Type of 5 / 2 is \", type(5 / 2))\n",
    "print(\"Type of 5 % 2 is \", type(5 % 2))\n",
    "print(\"Type of {5, 2, 1} is \", type({5, 2, 1}))\n",
    "print(\"Type of 5 == 3 is \", type(5 == 3))\n",
    "print(\"Type of 3.14 is \", type(3.14))"
   ]
  },
  {
   "cell_type": "markdown",
   "id": "9fb662a7",
   "metadata": {},
   "source": [
    "# Question 2\n",
    "\n",
    "Write (and evaluate) python expressions that answer these questions:</br>\n",
    "a. How many letters are there in 'Supercalifragilisticexpialidocious'?</br>\n",
    "b. Does 'Supercalifragilisticexpialidocious' contain 'ice' as a substring?</br>\n",
    "c. Which of the following words is the longest:</br>\n",
    "Supercalifragilisticexpialidocious, Honorificabilitudinitatibus, or\n",
    "Bababadalgharaghtakamminarronnkonn?</br>\n",
    "d. Which composer comes first in the dictionary:</br> 'Berlioz', 'Borodin', 'Brian',\n",
    "'Bartok', 'Bellini', 'Buxtehude', 'Bernstein'. Which one comes last?"
   ]
  },
  {
   "cell_type": "code",
   "execution_count": 27,
   "id": "25d0bdd3",
   "metadata": {},
   "outputs": [
    {
     "name": "stdout",
     "output_type": "stream",
     "text": [
      "a: 34\n",
      "b: Yes\n",
      "C: The longest word is: Supercalifragilisticexpialidocious\n",
      "D: Bartok\n"
     ]
    }
   ],
   "source": [
    "# How many letters are there in 'Supercalifragilisticexpialidocious'?\n",
    "a = 'Supercalifragilisticexpialidocious'\n",
    "print(\"a:\",len(a))\n",
    "\n",
    "# Does 'Supercalifragilisticexpialidocious' contain 'ice' as a substring?\n",
    "b = 'Supercalifragilisticexpialidocious'\n",
    "print(\"b: Yes\") if 'ice' in b else print(\"b = No\")\n",
    "\n",
    "# Which of the following words is the longest:\n",
    "# Supercalifragilisticexpialidocious, Honorificabilitudinitatibus, or Bababadalgharaghtakamminarronnkonn?\n",
    "\n",
    "words = [\"Supercalifragilisticexpialidocious\",\n",
    "         \"Honorificabilitudinitatibus\",\n",
    "         \"Bababadalgharaghtakamminarronnkonn\"]\n",
    "\n",
    "max_len = 0\n",
    "longest_word = \"\"\n",
    "\n",
    "for word in words:\n",
    "    if len(word) > max_len:\n",
    "        max_len = len(word)\n",
    "        longest_word = word\n",
    "\n",
    "print(\"C: The longest word is:\", longest_word)\n",
    "\n",
    "\n",
    "# Which composer comes first in the dictionary:\n",
    "# 'Berlioz', 'Borodin', 'Brian', 'Bartok', 'Bellini', 'Buxtehude', 'Bernstein'. Which one comes last?\n",
    "\n",
    "d = ['Berlioz', 'Borodin', 'Brian', 'Bartok', 'Bellini', 'Buxtehude', 'Bernstein']\n",
    "d.sort()\n",
    "print(\"D:\",d[0])"
   ]
  },
  {
   "cell_type": "markdown",
   "id": "1b67d452",
   "metadata": {},
   "source": [
    "# Question 3\n",
    "Implement function triangleArea(a,b,c) that takes as input the lengths of the 3\n",
    "sides of a triangle and returns the area of the triangle. By Heron's formula, the area\n",
    "of a triangle with side lengths a, b, and c is s(s - a)(s - b)(s - c), where\n",
    "s = (a +b +c)/2.\n",
    ">triangleArea(2,2,2)</br>\n",
    "1.7320508075688772"
   ]
  },
  {
   "cell_type": "code",
   "execution_count": 46,
   "id": "e6e8f7d0",
   "metadata": {},
   "outputs": [
    {
     "name": "stdout",
     "output_type": "stream",
     "text": [
      "Area of Triangle is:  1.7320508075688772\n"
     ]
    }
   ],
   "source": [
    "import math # Importing math library\n",
    "\n",
    "def triangleArea(a,b,c):\n",
    "    s = (a+b+c)/2\n",
    "    result = math.sqrt(s*(s - a)*(s - b)*(s - c))\n",
    "    return result\n",
    "    \n",
    "    \n",
    "print(\"Area of Triangle is: \", triangleArea(2,2,2))"
   ]
  },
  {
   "cell_type": "markdown",
   "id": "c0eb4649",
   "metadata": {},
   "source": [
    "# Question 4 \n",
    "Write a program in python to separate odd and even integers in separate arrays. Go\n",
    "to the editor</br>\n",
    "Test Data :</br>\n",
    "Input the number of elements to be stored in the array :5</br>\n",
    "Input 5 elements in the array :</br></br>\n",
    "element - 0 : 25</br>\n",
    "element - 1 : 47</br>\n",
    "element - 2 : 42</br>\n",
    "element - 3 : 56</br>\n",
    "element - 4 : 32</br></br>\n",
    "Expected Output:</br>\n",
    "The Even elements are:</br>\n",
    "42 56 32</br>\n",
    "The Odd elements are :</br>\n",
    "25 47"
   ]
  },
  {
   "cell_type": "code",
   "execution_count": 163,
   "id": "f0110c35",
   "metadata": {},
   "outputs": [
    {
     "name": "stdout",
     "output_type": "stream",
     "text": [
      "Input the number of elements to be stored in the array: 5\n",
      "Enter the 1 number: 25\n",
      "Enter the 2 number: 47\n",
      "Enter the 3 number: 42\n",
      "Enter the 4 number: 56\n",
      "Enter the 5 number: 32\n",
      "\n",
      "Even Numbers are:  [42, 56, 32]\n",
      "Odd Numbers are:  [25, 47]\n"
     ]
    }
   ],
   "source": [
    "loop_no = input(\"Input the number of elements to be stored in the array: \")\n",
    "even_numbers = []\n",
    "odd_numbers = []\n",
    "# This loops till the number of elements\n",
    "for i in range(int(loop_no)):\n",
    "    number = int((input(\"Enter the {:d} number: \".format(i+1))))\n",
    "    even_numbers.append(number) if number %2==0 else odd_numbers.append(number)\n",
    "\n",
    "print(\"\\nEven Numbers are: \", even_numbers)\n",
    "print(\"Odd Numbers are: \",odd_numbers)\n"
   ]
  },
  {
   "cell_type": "markdown",
   "id": "a56c5d13",
   "metadata": {},
   "source": [
    "# Question 5\n",
    "a. Write a function inside(x,y,x1,y1,x2,y2) that returns True or False\n",
    "depending on whether the point (x,y) lies in the rectangle with lower left\n",
    "corner (x1,y1) and upper right corner (x2,y2).</br></br>\n",
    " inside(1,1,0,0,2,3)</br>\n",
    "True</br>\n",
    " inside(-1,-1,0,0,2,3)</br>\n",
    "False</br></br>\n",
    "b. Use function inside() from part a. to write an expression that tests whether\n",
    "the point (1,1) lies in both of the following rectangles: one with lower left\n",
    "corner (0.3, 0.5) and upper right corner (1.1, 0.7) and the other with lower\n",
    "left corner (0.5, 0.2) and upper right corner (1.1, 2)."
   ]
  },
  {
   "cell_type": "code",
   "execution_count": 175,
   "id": "8848e965",
   "metadata": {},
   "outputs": [
    {
     "name": "stdout",
     "output_type": "stream",
     "text": [
      "inside(1,1,0,0,2,3):  True\n",
      "inside(-1,-1,0,0,2,3):  False\n",
      "Point(1,1) in (0.3,0.5) and (1.1,0.7):  False\n",
      "Point(1,1) in (0.5,0.2) and (1.1,2):  True\n"
     ]
    }
   ],
   "source": [
    "def inside(x,y,x1,y1,x2,y2):\n",
    "    return True if x1<=x<=x2 and y1<=y<=y2 else False\n",
    "\n",
    "print('inside(1,1,0,0,2,3): ', inside(1,1,0,0,2,3))\n",
    "print('inside(-1,-1,0,0,2,3): ', inside(-1,-1,0,0,2,3))\n",
    "\n",
    "rect1 = [0.3,0.5,1,1,0.7]\n",
    "rect2 = [0.5,0.2,1.1,2]\n",
    "point = [1,2]\n",
    "\n",
    "print('Point(1,1) in (0.3,0.5) and (1.1,0.7): ', inside(point[0],point[1],rect1[0],rect1[1],rect1[2],rect1[3]))\n",
    "print('Point(1,1) in (0.5,0.2) and (1.1,2): ', inside(point[0],point[1],rect2[0],rect2[1],rect2[2],rect2[3]))"
   ]
  },
  {
   "cell_type": "markdown",
   "id": "83b0c424",
   "metadata": {},
   "source": [
    "# Question 6\n",
    "16. You can turn a word into pig-Latin using the following two rules (simplified):</br>\n",
    "• If the word starts with a consonant, move that letter to the end and append\n",
    "'ay'. For example, 'happy' becomes 'appyhay' and 'pencil' becomes 'encilpay'.</br>\n",
    "• If the word starts with a vowel, simply append 'way' to the end of the word.</br>\n",
    "For example, 'enter' becomes 'enterway' and 'other' becomes 'otherway' . For\n",
    "our purposes, there are 5 vowels: a, e, i, o, u (so we count y as a consonant).\n",
    "Write a function pig() that takes a word (i.e., a string) as input and returns its pig-\n",
    "Latin form. Your function should still work if the input word contains upper case\n",
    "characters. Your output should always be lower case however.</br></br>\n",
    "pig('happy')</br>\n",
    "'appyhay'</br>\n",
    "pig('Enter')</br>\n",
    "'enterway'"
   ]
  },
  {
   "cell_type": "code",
   "execution_count": 186,
   "id": "b402d5df",
   "metadata": {},
   "outputs": [
    {
     "name": "stdout",
     "output_type": "stream",
     "text": [
      "pig('happy'):  appyhay\n",
      "pig('Enter'):  enterway\n"
     ]
    }
   ],
   "source": [
    "def pig(word):\n",
    "    word = str.lower(word)\n",
    "    if word[0] in ['a','e','i','o','u']: \n",
    "        return word+'way'\n",
    "        \n",
    "    else:\n",
    "        fc = word[0]\n",
    "        word = word[1:] #https://stackoverflow.com/questions/4945548/remove-the-first-character-of-a-string\n",
    "        return word+fc+'ay'\n",
    "    \n",
    "print('pig(\\'happy\\'): ', pig('Happy'))\n",
    "print('pig(\\'Enter\\'): ', pig('Enter'))"
   ]
  },
  {
   "cell_type": "markdown",
   "id": "3b1b0743",
   "metadata": {},
   "source": [
    "# Question 7\n",
    "File bloodtype1.txt records blood-types of patients (A, B, AB, O or OO) at a clinic.</br>\n",
    "Write a function bldcount() that reads the file with name name and reports (i.e.,\n",
    "prints) how many patients there are in each bloodtype.</br></br>\n",
    "bldcount('bloodtype.txt')</br>\n",
    "There are 10 patients of blood type A.</br>\n",
    "There is one patient of blood type B.</br>\n",
    "There are 10 patients of blood type AB.</br>\n",
    "There are 12 patients of blood type O.</br>\n",
    "There are no patients of blood type OO.</br>"
   ]
  },
  {
   "cell_type": "code",
   "execution_count": 178,
   "id": "e71a93ca",
   "metadata": {},
   "outputs": [
    {
     "name": "stdout",
     "output_type": "stream",
     "text": [
      "There are 15 patients of blood type A\n",
      "There are 1 patients of blood type B\n",
      "There are 13 patients of blood type AB\n",
      "There are 15 patients of blood type O\n",
      "There are no patients of blood type OO\n"
     ]
    }
   ],
   "source": [
    "\n",
    "infile = open('bloodtype1.txt','r')\n",
    "lst = infile.readline().strip() # https://stackoverflow.com/questions/62772371/what-is-the-purpose-of-readline-strip#:~:text=readline()%20reads%20a%20line,n'%20)%20from%20a%20string.\n",
    "blood_type_dict = {'A': 0, 'B': 0, 'AB': 0, 'O': 0,'OO':0}\n",
    "blood_types = lst.split() # https://stackoverflow.com/questions/62772371/what-is-the-purpose-of-readline-strip#:~:text=readline()%20reads%20a%20line,n'%20)%20from%20a%20string.\n",
    "# This loops for each bllod_type list\n",
    "for i in blood_types:\n",
    "    blood_type_dict[i] +=1\n",
    "# This loops for each dictionary element\n",
    "for blood_type, count in blood_type_dict.items():\n",
    "    if count >0:\n",
    "        print(f\"There are {count} patients of blood type {blood_type}\")\n",
    "    else:\n",
    "        print(f\"There are no patients of blood type {blood_type}\")    \n",
    "infile.close()\n",
    "\n"
   ]
  },
  {
   "cell_type": "markdown",
   "id": "12d3585f",
   "metadata": {},
   "source": [
    "# Question 8\n",
    "Write a function curconv() that takes as input:</br>\n",
    "1. a currency represented using a string (e.g., 'JPY' for the Japanese Yen or\n",
    "'EUR' for the Euro)</br>\n",
    "2. an amount\n",
    "and then converts and returns the amount in US dollars.</br></br>\n",
    "curconv('EUR', 100)</br>\n",
    "122.96544</br>\n",
    "curconv('JPY', 100)</br>\n",
    "1.241401</br></br>\n",
    "\n",
    "The currency rates you will need are stored in file currencies.txt:</br></br>\n",
    "AUD 1.0345157 Australian Dollar</br>\n",
    "CHF 1.0237414 Swiss Franc</br>\n",
    "CNY 0.1550176 Chinese Yuan</br>\n",
    "DKK 0.1651442 Danish Krone</br>\n",
    "EUR 1.2296544 Euro</br>\n",
    "GBP 1.5550989 British Pound</br>\n",
    "HKD 0.1270207 Hong Kong Dollar</br>\n",
    "INR 0.0177643 Indian Rupee</br>\n",
    "JPY 0.01241401 Japanese Yen</br>\n",
    "MXN 0.0751848 Mexican Peso</br>\n",
    "MYR 0.3145411 Malaysian Ringgit</br>\n",
    "NOK 0.1677063 Norwegian Krone</br>\n",
    "NZD 0.8003591 New Zealand Dollar</br>\n",
    "PHP 0.0233234 Philippine Peso</br>\n",
    "SEK 0.148269 Swedish Krona</br>\n",
    "SGD 0.788871 Singapore Dollar</br>\n",
    "THB 0.0313789 Thai Baht</br>"
   ]
  },
  {
   "cell_type": "code",
   "execution_count": 187,
   "id": "b34aa61e",
   "metadata": {},
   "outputs": [
    {
     "name": "stdout",
     "output_type": "stream",
     "text": [
      "curconv('EUR',100) 122.96544\n",
      "curconv('JPY',100) 1.241401\n"
     ]
    }
   ],
   "source": [
    "def curconv(txt,amount):\n",
    "    #https://stackoverflow.com/questions/17775273/how-to-read-and-store-values-from-a-text-file-into-a-dictionary-python\n",
    "    with open('currencies.txt', 'r') as f: \n",
    "        #This loops each line in the file and stores in a list\n",
    "        for line in f:\n",
    "            splitLine = line.split()\n",
    "            if splitLine[0] == txt:\n",
    "                return float(splitLine[1])*float(amount)\n",
    "\n",
    "            \n",
    "    \n",
    "    \n",
    "    \n",
    "print('curconv(\\'EUR\\',100)', curconv('EUR',100))\n",
    "print('curconv(\\'JPY\\',100)', curconv('JPY', 100))"
   ]
  },
  {
   "cell_type": "markdown",
   "id": "35e956fe",
   "metadata": {},
   "source": [
    "# Question 9\n",
    "Each of the following will cause an exception (an error). Identify what type of\n",
    "exception each will cause.</br></br>\n",
    "Trying to add incompatible variables, as in\n",
    "adding 6 + ‘a’</br>\n",
    "Referring to the 12th item of a list that has only 10\n",
    "items</br>\n",
    "Using a value that is out of range for a function’s\n",
    "input, such as calling math.sqrt(-1.0)</br>\n",
    "Using an undeclared variable, such as print(x)\n",
    "when x has not been defined</br>\n",
    "Trying to open a file that does not exist, such as\n",
    "mistyping the file name or looking in the wrong\n",
    "directory."
   ]
  },
  {
   "cell_type": "code",
   "execution_count": 181,
   "id": "8e27adbb",
   "metadata": {},
   "outputs": [
    {
     "name": "stdout",
     "output_type": "stream",
     "text": [
      "Trying to add incompatible variables, as in adding 6 + ‘a’: TypeError\n",
      "Referring to the 12th item of a list that has only 10 items: IndexError\n",
      "Using a value that is out of range for a function’s input, such as calling math.sqrt(-1.0): ValueError\n",
      "Using an undeclared variable, such as print(x) when x has not been defined: NameError\n",
      "Trying to open a file that does not exist, such as mistyping the file name or looking in the wrong directory.: FileNotFoundError\n"
     ]
    }
   ],
   "source": [
    "print('Trying to add incompatible variables, as in adding 6 + ‘a’: TypeError')\n",
    "print('Referring to the 12th item of a list that has only 10 items: IndexError')\n",
    "print('Using a value that is out of range for a function’s input, such as calling math.sqrt(-1.0): ValueError')\n",
    "print('Using an undeclared variable, such as print(x) when x has not been defined: NameError')\n",
    "print('Trying to open a file that does not exist, such as mistyping the file name or looking in the wrong directory.: FileNotFoundError')"
   ]
  },
  {
   "cell_type": "code",
   "execution_count": 145,
   "id": "87ee2533",
   "metadata": {},
   "outputs": [
    {
     "ename": "TypeError",
     "evalue": "unsupported operand type(s) for +: 'int' and 'str'",
     "output_type": "error",
     "traceback": [
      "\u001b[0;31m---------------------------------------------------------------------------\u001b[0m",
      "\u001b[0;31mTypeError\u001b[0m                                 Traceback (most recent call last)",
      "Cell \u001b[0;32mIn[145], line 1\u001b[0m\n\u001b[0;32m----> 1\u001b[0m \u001b[38;5;28mprint\u001b[39m(\u001b[38;5;241m6\u001b[39m \u001b[38;5;241m+\u001b[39m \u001b[38;5;124m'\u001b[39m\u001b[38;5;124ma\u001b[39m\u001b[38;5;124m'\u001b[39m)\n",
      "\u001b[0;31mTypeError\u001b[0m: unsupported operand type(s) for +: 'int' and 'str'"
     ]
    }
   ],
   "source": [
    "# Trying to add incompatible variables, as in adding 6 + ‘a’\n",
    "print(6 + 'a')"
   ]
  },
  {
   "cell_type": "code",
   "execution_count": 146,
   "id": "fcacf5fb",
   "metadata": {},
   "outputs": [
    {
     "ename": "IndexError",
     "evalue": "list index out of range",
     "output_type": "error",
     "traceback": [
      "\u001b[0;31m---------------------------------------------------------------------------\u001b[0m",
      "\u001b[0;31mIndexError\u001b[0m                                Traceback (most recent call last)",
      "Cell \u001b[0;32mIn[146], line 2\u001b[0m\n\u001b[1;32m      1\u001b[0m lst \u001b[38;5;241m=\u001b[39m [\u001b[38;5;241m1\u001b[39m,\u001b[38;5;241m2\u001b[39m,\u001b[38;5;241m3\u001b[39m,\u001b[38;5;241m4\u001b[39m,\u001b[38;5;241m5\u001b[39m,\u001b[38;5;241m6\u001b[39m,\u001b[38;5;241m7\u001b[39m,\u001b[38;5;241m8\u001b[39m,\u001b[38;5;241m9\u001b[39m,\u001b[38;5;241m0\u001b[39m]\n\u001b[0;32m----> 2\u001b[0m \u001b[38;5;28mprint\u001b[39m(lst[\u001b[38;5;241m11\u001b[39m])\n",
      "\u001b[0;31mIndexError\u001b[0m: list index out of range"
     ]
    }
   ],
   "source": [
    "# Referring to the 12th item of a list that has only 10 items\n",
    "lst = [1,2,3,4,5,6,7,8,9,0]\n",
    "print(lst[11])"
   ]
  },
  {
   "cell_type": "code",
   "execution_count": 147,
   "id": "0ea245a4",
   "metadata": {},
   "outputs": [
    {
     "ename": "ValueError",
     "evalue": "math domain error",
     "output_type": "error",
     "traceback": [
      "\u001b[0;31m---------------------------------------------------------------------------\u001b[0m",
      "\u001b[0;31mValueError\u001b[0m                                Traceback (most recent call last)",
      "Cell \u001b[0;32mIn[147], line 3\u001b[0m\n\u001b[1;32m      1\u001b[0m \u001b[38;5;28;01mimport\u001b[39;00m \u001b[38;5;21;01mmath\u001b[39;00m\n\u001b[0;32m----> 3\u001b[0m \u001b[38;5;28mprint\u001b[39m(math\u001b[38;5;241m.\u001b[39msqrt(\u001b[38;5;241m-\u001b[39m\u001b[38;5;241m1.0\u001b[39m))\n",
      "\u001b[0;31mValueError\u001b[0m: math domain error"
     ]
    }
   ],
   "source": [
    "# Using a value that is out of range for a function’s input, such as calling math.sqrt(-1.0)\n",
    "import math\n",
    "\n",
    "print(math.sqrt(-1.0))"
   ]
  },
  {
   "cell_type": "code",
   "execution_count": 148,
   "id": "7ae6dcba",
   "metadata": {},
   "outputs": [
    {
     "ename": "NameError",
     "evalue": "name 'x' is not defined",
     "output_type": "error",
     "traceback": [
      "\u001b[0;31m---------------------------------------------------------------------------\u001b[0m",
      "\u001b[0;31mNameError\u001b[0m                                 Traceback (most recent call last)",
      "Cell \u001b[0;32mIn[148], line 1\u001b[0m\n\u001b[0;32m----> 1\u001b[0m \u001b[38;5;28mprint\u001b[39m(x)\n",
      "\u001b[0;31mNameError\u001b[0m: name 'x' is not defined"
     ]
    }
   ],
   "source": [
    "# Using an undeclared variable, such as print(x) when x has not been defined\n",
    "print(x)"
   ]
  },
  {
   "cell_type": "code",
   "execution_count": 149,
   "id": "f67b09f9",
   "metadata": {},
   "outputs": [
    {
     "ename": "FileNotFoundError",
     "evalue": "[Errno 2] No such file or directory: 'bloodtype.txt'",
     "output_type": "error",
     "traceback": [
      "\u001b[0;31m---------------------------------------------------------------------------\u001b[0m",
      "\u001b[0;31mFileNotFoundError\u001b[0m                         Traceback (most recent call last)",
      "Cell \u001b[0;32mIn[149], line 1\u001b[0m\n\u001b[0;32m----> 1\u001b[0m infile \u001b[38;5;241m=\u001b[39m \u001b[38;5;28mopen\u001b[39m(\u001b[38;5;124m'\u001b[39m\u001b[38;5;124mbloodtype.txt\u001b[39m\u001b[38;5;124m'\u001b[39m,\u001b[38;5;124m'\u001b[39m\u001b[38;5;124mr\u001b[39m\u001b[38;5;124m'\u001b[39m)\n\u001b[1;32m      2\u001b[0m lst \u001b[38;5;241m=\u001b[39m infile\u001b[38;5;241m.\u001b[39mreadline()\u001b[38;5;241m.\u001b[39mstrip()\n",
      "File \u001b[0;32m/Users/anaconda3/lib/python3.11/site-packages/IPython/core/interactiveshell.py:286\u001b[0m, in \u001b[0;36m_modified_open\u001b[0;34m(file, *args, **kwargs)\u001b[0m\n\u001b[1;32m    279\u001b[0m \u001b[38;5;28;01mif\u001b[39;00m file \u001b[38;5;129;01min\u001b[39;00m {\u001b[38;5;241m0\u001b[39m, \u001b[38;5;241m1\u001b[39m, \u001b[38;5;241m2\u001b[39m}:\n\u001b[1;32m    280\u001b[0m     \u001b[38;5;28;01mraise\u001b[39;00m \u001b[38;5;167;01mValueError\u001b[39;00m(\n\u001b[1;32m    281\u001b[0m         \u001b[38;5;124mf\u001b[39m\u001b[38;5;124m\"\u001b[39m\u001b[38;5;124mIPython won\u001b[39m\u001b[38;5;124m'\u001b[39m\u001b[38;5;124mt let you open fd=\u001b[39m\u001b[38;5;132;01m{\u001b[39;00mfile\u001b[38;5;132;01m}\u001b[39;00m\u001b[38;5;124m by default \u001b[39m\u001b[38;5;124m\"\u001b[39m\n\u001b[1;32m    282\u001b[0m         \u001b[38;5;124m\"\u001b[39m\u001b[38;5;124mas it is likely to crash IPython. If you know what you are doing, \u001b[39m\u001b[38;5;124m\"\u001b[39m\n\u001b[1;32m    283\u001b[0m         \u001b[38;5;124m\"\u001b[39m\u001b[38;5;124myou can use builtins\u001b[39m\u001b[38;5;124m'\u001b[39m\u001b[38;5;124m open.\u001b[39m\u001b[38;5;124m\"\u001b[39m\n\u001b[1;32m    284\u001b[0m     )\n\u001b[0;32m--> 286\u001b[0m \u001b[38;5;28;01mreturn\u001b[39;00m io_open(file, \u001b[38;5;241m*\u001b[39margs, \u001b[38;5;241m*\u001b[39m\u001b[38;5;241m*\u001b[39mkwargs)\n",
      "\u001b[0;31mFileNotFoundError\u001b[0m: [Errno 2] No such file or directory: 'bloodtype.txt'"
     ]
    }
   ],
   "source": [
    "# Trying to open a file that does not exist, such as mistyping the file name or looking in the wrong directory.\n",
    "infile = open('bloodtype.txt','r')\n",
    "lst = infile.readline().strip()"
   ]
  },
  {
   "cell_type": "markdown",
   "id": "e5dd2bcc",
   "metadata": {},
   "source": [
    "# Question 10\n",
    "Encryption is the process of hiding the meaning of a text by substituting letters in the\n",
    "message with other letters, according to some system. If the process is successful, no\n",
    "one but the intended recipient can understand the encrypted message. Cryptanalysis\n",
    "refers to attempts to undo the encryption, even if some details of the encryption are\n",
    "unknown (for example, if an encrypted message has been intercepted). The first step\n",
    "of cryptanalysis is often to build up a table of letter frequencies in the encrypted text.</br></br>\n",
    "Assume that the string letters is already defined as\n",
    "'abcdefghijklmnopqrstuvwxyz'. Write a function called frequencies()\n",
    "that takes a string as its only parameter, and returns a list of integers, showing the\n",
    "number of times each character appears in the text. Your function may ignore any\n",
    "characters that are not in letters.</br></br>\n",
    "frequencies('The quick red fox got bored and went home.')</br>\n",
    "[1, 1, 1, 3, 5, 1, 1, 2, 1, 0, 1, 0, 1, 2, 4, 0, 1, 2, 0, 2,\n",
    "1, 0, 1, 1, 0, 0]</br>\n",
    "frequencies('apple')"
   ]
  },
  {
   "cell_type": "code",
   "execution_count": 185,
   "id": "2c48c030",
   "metadata": {},
   "outputs": [
    {
     "name": "stdout",
     "output_type": "stream",
     "text": [
      "frequencies('The quick red fox got bored and went home.'): \n",
      " [1, 1, 1, 3, 5, 1, 1, 2, 1, 0, 1, 0, 1, 2, 4, 0, 1, 2, 0, 3, 1, 0, 1, 1, 0, 0]\n",
      "frequencies('Apple'): \n",
      " [1, 0, 0, 0, 1, 0, 0, 0, 0, 0, 0, 1, 0, 0, 0, 2, 0, 0, 0, 0, 0, 0, 0, 0, 0, 0]\n"
     ]
    }
   ],
   "source": [
    "def frequencies(string):\n",
    "    letters = 'abcdefghijklmnopqrstuvwxyz'\n",
    "    frequency_list = [0] * len(letters)\n",
    "    text = string.lower()\n",
    "    # This loops for each character in the string\n",
    "    for char in text:\n",
    "        if char in letters:\n",
    "            index = letters.index(char) #https://www.w3schools.com/python/ref_string_index.asp\n",
    "            frequency_list[index] += 1\n",
    "\n",
    "    return frequency_list\n",
    "\n",
    "print('frequencies(\\'The quick red fox got bored and went home.\\'): \\n',frequencies(\"The quick red fox got bored and went home.\"))\n",
    "print('frequencies(\\'Apple\\'): \\n',frequencies(\"Apple\"))\n"
   ]
  },
  {
   "cell_type": "code",
   "execution_count": null,
   "id": "af33de59",
   "metadata": {},
   "outputs": [],
   "source": []
  }
 ],
 "metadata": {
  "kernelspec": {
   "display_name": "Python 3 (ipykernel)",
   "language": "python",
   "name": "python3"
  },
  "language_info": {
   "codemirror_mode": {
    "name": "ipython",
    "version": 3
   },
   "file_extension": ".py",
   "mimetype": "text/x-python",
   "name": "python",
   "nbconvert_exporter": "python",
   "pygments_lexer": "ipython3",
   "version": "3.11.5"
  }
 },
 "nbformat": 4,
 "nbformat_minor": 5
}
